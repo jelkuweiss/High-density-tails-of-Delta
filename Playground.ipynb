{
 "cells": [
  {
   "cell_type": "code",
   "execution_count": 1,
   "id": "38aa1010-094d-4611-9c6b-c901117077ca",
   "metadata": {},
   "outputs": [],
   "source": [
    "import numpy as np\n",
    "import matplotlib.pyplot as plt\n",
    "from functions import *"
   ]
  },
  {
   "cell_type": "code",
   "execution_count": 2,
   "id": "9446d5f1-0cf3-484c-8c9b-a317f4a78b63",
   "metadata": {},
   "outputs": [
    {
     "name": "stdout",
     "output_type": "stream",
     "text": [
      "generating power spectra ... (this will take time) ...\n",
      "Done!\n"
     ]
    }
   ],
   "source": [
    "# Choose your cosmology and redshift\n",
    "\n",
    "#Quijote\n",
    "Omega_m = 0.3175\n",
    "Omega_b = 0.049\n",
    "h = 0.6711\n",
    "n_s = 0.9624\n",
    "sigma8 = 0.834\n",
    "\n",
    "z = 0.5\n",
    "\n",
    "k_l,pk_l,k_nl,pk_nl = generate_all_power_spectra(Omega_m,\n",
    "                                                 Omega_b,\n",
    "                                                 h,\n",
    "                                                 n_s,\n",
    "                                                 sigma8,\n",
    "                                                 z)"
   ]
  },
  {
   "cell_type": "code",
   "execution_count": 3,
   "id": "ca111d10-63cf-4c46-a421-c1fe4f758fde",
   "metadata": {},
   "outputs": [],
   "source": [
    "R = 10"
   ]
  },
  {
   "cell_type": "code",
   "execution_count": 4,
   "id": "bab1e856-5c0d-42a7-a950-911de8863c2b",
   "metadata": {},
   "outputs": [
    {
     "name": "stdout",
     "output_type": "stream",
     "text": [
      "0.5735063434575242\n",
      "0.5451167532675769\n"
     ]
    }
   ],
   "source": [
    "print(sigma_from_power_spectrum(k_nl,pk_nl,R))\n",
    "print(sigma_from_power_spectrum(k_l,pk_l,R))"
   ]
  },
  {
   "cell_type": "code",
   "execution_count": 5,
   "id": "3f11720b-7732-49d0-941d-16b8563fbf47",
   "metadata": {},
   "outputs": [],
   "source": [
    "del_R = np.linspace(-0.99,20,2**10)\n",
    "hdtail = high_density_tail_ValIIB9(del_R,k_l,pk_l,R)"
   ]
  }
 ],
 "metadata": {
  "kernelspec": {
   "display_name": "Python 3 (ipykernel)",
   "language": "python",
   "name": "python3"
  },
  "language_info": {
   "codemirror_mode": {
    "name": "ipython",
    "version": 3
   },
   "file_extension": ".py",
   "mimetype": "text/x-python",
   "name": "python",
   "nbconvert_exporter": "python",
   "pygments_lexer": "ipython3",
   "version": "3.10.5"
  }
 },
 "nbformat": 4,
 "nbformat_minor": 5
}
